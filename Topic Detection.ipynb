{
  "nbformat": 4,
  "nbformat_minor": 0,
  "metadata": {
    "colab": {
      "provenance": [],
      "authorship_tag": "ABX9TyMu1ge13UkwiNPnHPk1dk+K",
      "include_colab_link": true
    },
    "kernelspec": {
      "name": "python3",
      "display_name": "Python 3"
    },
    "language_info": {
      "name": "python"
    }
  },
  "cells": [
    {
      "cell_type": "markdown",
      "metadata": {
        "id": "view-in-github",
        "colab_type": "text"
      },
      "source": [
        "<a href=\"https://colab.research.google.com/github/Tanucode/Deep-Learning-Practice/blob/main/Topic%20Detection.ipynb\" target=\"_parent\"><img src=\"https://colab.research.google.com/assets/colab-badge.svg\" alt=\"Open In Colab\"/></a>"
      ]
    },
    {
      "cell_type": "code",
      "execution_count": 1,
      "metadata": {
        "colab": {
          "base_uri": "https://localhost:8080/"
        },
        "id": "trBeR0_4HWGI",
        "outputId": "dc96162e-7159-4243-8409-395056b892a9"
      },
      "outputs": [
        {
          "output_type": "stream",
          "name": "stderr",
          "text": [
            "[nltk_data] Downloading package punkt to /root/nltk_data...\n",
            "[nltk_data]   Unzipping tokenizers/punkt.zip.\n",
            "[nltk_data] Downloading package stopwords to /root/nltk_data...\n",
            "[nltk_data]   Unzipping corpora/stopwords.zip.\n"
          ]
        },
        {
          "output_type": "execute_result",
          "data": {
            "text/plain": [
              "True"
            ]
          },
          "metadata": {},
          "execution_count": 1
        }
      ],
      "source": [
        "import re\n",
        "import string\n",
        "import numpy as np\n",
        "import pandas as pd\n",
        "from sklearn.model_selection import train_test_split\n",
        "from sklearn.feature_extraction.text import TfidfVectorizer\n",
        "from sklearn.linear_model import LogisticRegression\n",
        "from sklearn.metrics import accuracy_score,classification_report,confusion_matrix\n",
        "import nltk\n",
        "from nltk.tokenize import word_tokenize\n",
        "from nltk.corpus import stopwords\n",
        "nltk.download('punkt')\n",
        "nltk.download('stopwords')"
      ]
    },
    {
      "cell_type": "code",
      "source": [
        "df = pd.read_excel (\"samplefile1.xlsx\",names=['tweet','polarity','frequency'])\n",
        "df = df.dropna()\n",
        "print (df)"
      ],
      "metadata": {
        "colab": {
          "base_uri": "https://localhost:8080/"
        },
        "id": "Lc3I7uYOHkdB",
        "outputId": "cd833e35-f25b-470b-a68c-1300c9659d85"
      },
      "execution_count": 3,
      "outputs": [
        {
          "output_type": "stream",
          "name": "stdout",
          "text": [
            "                                                  tweet polarity  frequency\n",
            "0     Global warming report urges governments to act...      Yes     1.0000\n",
            "1     Fighting poverty and global warming in Africa ...      Yes     1.0000\n",
            "2     Carbon offsets: How a Vatican forest failed to...      Yes     0.8786\n",
            "3     Carbon offsets: How a Vatican forest failed to...      Yes     1.0000\n",
            "4     URUGUAY: Tools Needed for Those Most Vulnerabl...      Yes     0.8087\n",
            "...                                                 ...      ...        ...\n",
            "6084  It's 83•_Á and climbing in NYC. August weather...        Y     1.0000\n",
            "6085  @bloodless_coup \"The phrase 'global warming' s...        Y     1.0000\n",
            "6087  Global warming you tube parody you will enjoy ...        N     0.6411\n",
            "6088  One-Eyed Golfer: Don't dare tell me about glob...        N     1.0000\n",
            "6089  man made global warming a hair brained theory ...        N     1.0000\n",
            "\n",
            "[4225 rows x 3 columns]\n"
          ]
        }
      ]
    },
    {
      "cell_type": "code",
      "source": [
        "df = df.drop(columns=['frequency'])\n",
        "# df_cleaned = df.dropna()\n",
        "print(df)"
      ],
      "metadata": {
        "colab": {
          "base_uri": "https://localhost:8080/"
        },
        "id": "M3YUrNgEH_jD",
        "outputId": "6c9b29b3-9460-4680-9121-2e47849d7094"
      },
      "execution_count": 4,
      "outputs": [
        {
          "output_type": "stream",
          "name": "stdout",
          "text": [
            "                                                  tweet polarity\n",
            "0     Global warming report urges governments to act...      Yes\n",
            "1     Fighting poverty and global warming in Africa ...      Yes\n",
            "2     Carbon offsets: How a Vatican forest failed to...      Yes\n",
            "3     Carbon offsets: How a Vatican forest failed to...      Yes\n",
            "4     URUGUAY: Tools Needed for Those Most Vulnerabl...      Yes\n",
            "...                                                 ...      ...\n",
            "6084  It's 83•_Á and climbing in NYC. August weather...        Y\n",
            "6085  @bloodless_coup \"The phrase 'global warming' s...        Y\n",
            "6087  Global warming you tube parody you will enjoy ...        N\n",
            "6088  One-Eyed Golfer: Don't dare tell me about glob...        N\n",
            "6089  man made global warming a hair brained theory ...        N\n",
            "\n",
            "[4225 rows x 2 columns]\n"
          ]
        }
      ]
    },
    {
      "cell_type": "code",
      "source": [
        "df.polarity.value_counts()"
      ],
      "metadata": {
        "colab": {
          "base_uri": "https://localhost:8080/"
        },
        "id": "52ysgM9bIDwt",
        "outputId": "56775ff0-c240-404b-c77a-d57799e22f41"
      },
      "execution_count": 5,
      "outputs": [
        {
          "output_type": "execute_result",
          "data": {
            "text/plain": [
              "Y      2554\n",
              "N      1053\n",
              "Yes     557\n",
              "No       61\n",
              "Name: polarity, dtype: int64"
            ]
          },
          "metadata": {},
          "execution_count": 5
        }
      ]
    },
    {
      "cell_type": "code",
      "source": [
        "df['polarity'] = df['polarity'].replace({'Yes': 1, 'Y': 1, 'No': 0, 'N': 0})\n",
        "print(df)"
      ],
      "metadata": {
        "colab": {
          "base_uri": "https://localhost:8080/"
        },
        "id": "1MF9TrlJIKeS",
        "outputId": "54d1f590-848e-4aa4-b0f9-b55ad04d3353"
      },
      "execution_count": 6,
      "outputs": [
        {
          "output_type": "stream",
          "name": "stdout",
          "text": [
            "                                                  tweet  polarity\n",
            "0     Global warming report urges governments to act...         1\n",
            "1     Fighting poverty and global warming in Africa ...         1\n",
            "2     Carbon offsets: How a Vatican forest failed to...         1\n",
            "3     Carbon offsets: How a Vatican forest failed to...         1\n",
            "4     URUGUAY: Tools Needed for Those Most Vulnerabl...         1\n",
            "...                                                 ...       ...\n",
            "6084  It's 83•_Á and climbing in NYC. August weather...         1\n",
            "6085  @bloodless_coup \"The phrase 'global warming' s...         1\n",
            "6087  Global warming you tube parody you will enjoy ...         0\n",
            "6088  One-Eyed Golfer: Don't dare tell me about glob...         0\n",
            "6089  man made global warming a hair brained theory ...         0\n",
            "\n",
            "[4225 rows x 2 columns]\n"
          ]
        }
      ]
    },
    {
      "cell_type": "code",
      "source": [
        "df= df.drop_duplicates(subset='tweet')\n",
        "print(df)"
      ],
      "metadata": {
        "colab": {
          "base_uri": "https://localhost:8080/"
        },
        "id": "i_P0Wrb3IOmc",
        "outputId": "20973b09-a9f4-4c43-fb66-300dd3bbb55c"
      },
      "execution_count": 7,
      "outputs": [
        {
          "output_type": "stream",
          "name": "stdout",
          "text": [
            "                                                  tweet  polarity\n",
            "0     Global warming report urges governments to act...         1\n",
            "1     Fighting poverty and global warming in Africa ...         1\n",
            "2     Carbon offsets: How a Vatican forest failed to...         1\n",
            "4     URUGUAY: Tools Needed for Those Most Vulnerabl...         1\n",
            "5     RT @sejorg: RT @JaymiHeimbuch: Ocean Saltiness...         1\n",
            "...                                                 ...       ...\n",
            "6084  It's 83•_Á and climbing in NYC. August weather...         1\n",
            "6085  @bloodless_coup \"The phrase 'global warming' s...         1\n",
            "6087  Global warming you tube parody you will enjoy ...         0\n",
            "6088  One-Eyed Golfer: Don't dare tell me about glob...         0\n",
            "6089  man made global warming a hair brained theory ...         0\n",
            "\n",
            "[3889 rows x 2 columns]\n"
          ]
        }
      ]
    },
    {
      "cell_type": "code",
      "source": [
        "import re\n",
        "\n",
        "def clean_tweet(text):\n",
        "    signs = r'@[^ ]+'                   #\"@signs\" and values\n",
        "    links = r'https?://[A-Za-z0-9./]+'  #links\n",
        "    extraletters = r'\\'s'                      #floating s's\n",
        "    hashtags = r'\\#\\w+'                     # hashtags and value\n",
        "    ands = r'&amp '\n",
        "    nonalphabet = r'[^A-Za-z\\s]'         #remove non-alphabet\n",
        "    combined_words = r'|'.join((signs, links,extraletters,hashtags,ands, nonalphabet))\n",
        "    text = re.sub(combined_words,\"\",text).lower()\n",
        "    return text.strip()"
      ],
      "metadata": {
        "id": "SV2Ds7MWIS_T"
      },
      "execution_count": 8,
      "outputs": []
    },
    {
      "cell_type": "code",
      "source": [
        "df[\"cleaned_tweet\"]=df[\"tweet\"].apply(clean_tweet)\n",
        "print(df)"
      ],
      "metadata": {
        "colab": {
          "base_uri": "https://localhost:8080/"
        },
        "id": "mzCsvOlGIWGA",
        "outputId": "fb17e73f-c0f4-4451-d392-d60bbc38b7f5"
      },
      "execution_count": 9,
      "outputs": [
        {
          "output_type": "stream",
          "name": "stdout",
          "text": [
            "                                                  tweet  polarity  \\\n",
            "0     Global warming report urges governments to act...         1   \n",
            "1     Fighting poverty and global warming in Africa ...         1   \n",
            "2     Carbon offsets: How a Vatican forest failed to...         1   \n",
            "4     URUGUAY: Tools Needed for Those Most Vulnerabl...         1   \n",
            "5     RT @sejorg: RT @JaymiHeimbuch: Ocean Saltiness...         1   \n",
            "...                                                 ...       ...   \n",
            "6084  It's 83•_Á and climbing in NYC. August weather...         1   \n",
            "6085  @bloodless_coup \"The phrase 'global warming' s...         1   \n",
            "6087  Global warming you tube parody you will enjoy ...         0   \n",
            "6088  One-Eyed Golfer: Don't dare tell me about glob...         0   \n",
            "6089  man made global warming a hair brained theory ...         0   \n",
            "\n",
            "                                          cleaned_tweet  \n",
            "0     global warming report urges governments to act...  \n",
            "1     fighting poverty and global warming in africa ...  \n",
            "2     carbon offsets how a vatican forest failed to ...  \n",
            "4     uruguay tools needed for those most vulnerable...  \n",
            "5     rt  rt  ocean saltiness shows global warming i...  \n",
            "...                                                 ...  \n",
            "6084  it  and climbing in nyc august weather for the...  \n",
            "6085  the phrase global warming should be abandoned ...  \n",
            "6087      global warming you tube parody you will enjoy  \n",
            "6088  oneeyed golfer dont dare tell me about global ...  \n",
            "6089  man made global warming a hair brained theory ...  \n",
            "\n",
            "[3889 rows x 3 columns]\n"
          ]
        }
      ]
    },
    {
      "cell_type": "code",
      "source": [
        "df = df.drop(columns=['tweet'])\n",
        "print(df)"
      ],
      "metadata": {
        "colab": {
          "base_uri": "https://localhost:8080/"
        },
        "id": "GPkboJ14IYLS",
        "outputId": "4a3b2ffa-6810-487d-81f9-4f5e5eddf200"
      },
      "execution_count": 10,
      "outputs": [
        {
          "output_type": "stream",
          "name": "stdout",
          "text": [
            "      polarity                                      cleaned_tweet\n",
            "0            1  global warming report urges governments to act...\n",
            "1            1  fighting poverty and global warming in africa ...\n",
            "2            1  carbon offsets how a vatican forest failed to ...\n",
            "4            1  uruguay tools needed for those most vulnerable...\n",
            "5            1  rt  rt  ocean saltiness shows global warming i...\n",
            "...        ...                                                ...\n",
            "6084         1  it  and climbing in nyc august weather for the...\n",
            "6085         1  the phrase global warming should be abandoned ...\n",
            "6087         0      global warming you tube parody you will enjoy\n",
            "6088         0  oneeyed golfer dont dare tell me about global ...\n",
            "6089         0  man made global warming a hair brained theory ...\n",
            "\n",
            "[3889 rows x 2 columns]\n"
          ]
        }
      ]
    },
    {
      "cell_type": "code",
      "source": [
        "df.polarity.value_counts()"
      ],
      "metadata": {
        "colab": {
          "base_uri": "https://localhost:8080/"
        },
        "id": "EyqopxjXIclb",
        "outputId": "e15d4c37-5f1f-433a-bf55-f1bc2f302ebf"
      },
      "execution_count": 11,
      "outputs": [
        {
          "output_type": "execute_result",
          "data": {
            "text/plain": [
              "1    2845\n",
              "0    1044\n",
              "Name: polarity, dtype: int64"
            ]
          },
          "metadata": {},
          "execution_count": 11
        }
      ]
    },
    {
      "cell_type": "code",
      "source": [
        "count_nan = df.isna().sum().sum()\n",
        "print(count_nan)"
      ],
      "metadata": {
        "colab": {
          "base_uri": "https://localhost:8080/"
        },
        "id": "A3py3N1nIlL4",
        "outputId": "fbcec36c-d1f3-468b-a2f6-dfddbc35a83c"
      },
      "execution_count": 12,
      "outputs": [
        {
          "output_type": "stream",
          "name": "stdout",
          "text": [
            "0\n"
          ]
        }
      ]
    },
    {
      "cell_type": "code",
      "source": [
        "df['cleaned_tweet'].str.lower()\n",
        "split_data = df[\"cleaned_tweet\"].str.split(\" \")\n",
        "data = split_data\n",
        "print(df)"
      ],
      "metadata": {
        "colab": {
          "base_uri": "https://localhost:8080/"
        },
        "id": "3asbWiytI6wi",
        "outputId": "c00749ca-f357-4f0c-e843-55d1fbb3d533"
      },
      "execution_count": 13,
      "outputs": [
        {
          "output_type": "stream",
          "name": "stdout",
          "text": [
            "      polarity                                      cleaned_tweet\n",
            "0            1  global warming report urges governments to act...\n",
            "1            1  fighting poverty and global warming in africa ...\n",
            "2            1  carbon offsets how a vatican forest failed to ...\n",
            "4            1  uruguay tools needed for those most vulnerable...\n",
            "5            1  rt  rt  ocean saltiness shows global warming i...\n",
            "...        ...                                                ...\n",
            "6084         1  it  and climbing in nyc august weather for the...\n",
            "6085         1  the phrase global warming should be abandoned ...\n",
            "6087         0      global warming you tube parody you will enjoy\n",
            "6088         0  oneeyed golfer dont dare tell me about global ...\n",
            "6089         0  man made global warming a hair brained theory ...\n",
            "\n",
            "[3889 rows x 2 columns]\n"
          ]
        }
      ]
    },
    {
      "cell_type": "code",
      "source": [
        "# Assuming df is your DataFrame containing the 'cleaned_tweet' column\n",
        "keywords_global_warming = ['global warming', 'climate change', 'carbon emissions', 'environment']\n",
        "\n",
        "# Function to check if any keyword appears in the cleaned_tweet\n",
        "def detect_global_warming_topic(tweet):\n",
        "    for keyword in keywords_global_warming:\n",
        "        if keyword in tweet.lower():  # Convert both the tweet and the keyword to lowercase for case-insensitive matching\n",
        "            return True\n",
        "    return False\n",
        "\n",
        "# Apply the function to the DataFrame\n",
        "df['is_global_warming_topic'] = df['cleaned_tweet'].apply(detect_global_warming_topic)\n",
        "\n",
        "# Filter rows where the global warming topic is detected\n",
        "global_warming_tweets = df[df['is_global_warming_topic']]\n",
        "\n",
        "# Print the detected global warming tweets\n",
        "print(global_warming_tweets[['cleaned_tweet', 'polarity']])"
      ],
      "metadata": {
        "colab": {
          "base_uri": "https://localhost:8080/"
        },
        "id": "HoZQUsqpJBB2",
        "outputId": "9adefa45-1525-42ba-aa6d-c35f8f2e60d4"
      },
      "execution_count": 14,
      "outputs": [
        {
          "output_type": "stream",
          "name": "stdout",
          "text": [
            "                                          cleaned_tweet  polarity\n",
            "0     global warming report urges governments to act...         1\n",
            "1     fighting poverty and global warming in africa ...         1\n",
            "2     carbon offsets how a vatican forest failed to ...         1\n",
            "4     uruguay tools needed for those most vulnerable...         1\n",
            "5     rt  rt  ocean saltiness shows global warming i...         1\n",
            "...                                                 ...       ...\n",
            "6084  it  and climbing in nyc august weather for the...         1\n",
            "6085  the phrase global warming should be abandoned ...         1\n",
            "6087      global warming you tube parody you will enjoy         0\n",
            "6088  oneeyed golfer dont dare tell me about global ...         0\n",
            "6089  man made global warming a hair brained theory ...         0\n",
            "\n",
            "[3694 rows x 2 columns]\n"
          ]
        }
      ]
    },
    {
      "cell_type": "code",
      "source": [
        "# Assuming df is your DataFrame containing the 'cleaned_tweet' column\n",
        "keywords_global_warming = ['global warming', 'carbon emissions']\n",
        "keywords_climate_change = ['climate change', 'environment']\n",
        "keyword_poverty = ['poverty']\n",
        "keyword_energy = ['renewable energy', 'energy consumption']\n",
        "\n",
        "# Function to check if any keyword appears in the cleaned_tweet\n",
        "def detect_global_warming_topic(tweet):\n",
        "    for keyword in keywords_global_warming:\n",
        "        if keyword in tweet.lower():  # Convert both the tweet and the keyword to lowercase for case-insensitive matching\n",
        "            return True\n",
        "    return False\n",
        "\n",
        "def detect_climate_change_topic(tweet):\n",
        "    for keyword in keywords_climate_change:\n",
        "        if keyword in tweet.lower():  # Convert both the tweet and the keyword to lowercase for case-insensitive matching\n",
        "            return True\n",
        "    return False\n",
        "\n",
        "\n",
        "def detect_poverty_topic(tweet):\n",
        "    for keyword in keyword_poverty:\n",
        "        if keyword in tweet.lower():  # Convert both the tweet and the keyword to lowercase for case-insensitive matching\n",
        "            return True\n",
        "    return False\n",
        "\n",
        "def detect_energy_topic(tweet):\n",
        "    for keyword in keyword_energy:\n",
        "        if keyword in tweet.lower():  # Convert both the tweet and the keyword to lowercase for case-insensitive matching\n",
        "            return True\n",
        "    return False\n",
        "\n",
        "# Apply the function to the DataFrame\n",
        "df['is_global_warming_topic'] = df['cleaned_tweet'].apply(detect_global_warming_topic)\n",
        "df['is_climate_change_topic'] = df['cleaned_tweet'].apply(detect_climate_change_topic)\n",
        "df['is_poverty_topic'] = df['cleaned_tweet'].apply(detect_poverty_topic)\n",
        "df['is_energy_topic'] = df['cleaned_tweet'].apply(detect_energy_topic)\n",
        "\n",
        "# Filter rows where the global warming topic is detected\n",
        "global_warming_tweets = df[df['is_global_warming_topic']]\n",
        "\n",
        "# Filter rows where the climate change topic is detected\n",
        "climate_change_tweets = df[df['is_climate_change_topic']]\n",
        "\n",
        "#Filter rows where poverty as a topic is detected\n",
        "poverty_tweets = df[df['is_poverty_topic']]\n",
        "\n",
        "#Filter rows where energy as a topic is detected\n",
        "energy_tweets = df[df['is_energy_topic']]\n",
        "\n",
        "# Print the detected global warming tweets\n",
        "print(global_warming_tweets[['cleaned_tweet', 'polarity']])\n",
        "\n",
        "# Print the detected climate change tweets\n",
        "print(climate_change_tweets[['cleaned_tweet', 'polarity']])\n",
        "\n",
        "#print the detected poverty tweets\n",
        "print(poverty_tweets[['cleaned_tweet','polarity']])\n",
        "\n",
        "#print the detected energy tweets\n",
        "print(energy_tweets[['cleaned_tweet','polarity']])\n"
      ],
      "metadata": {
        "colab": {
          "base_uri": "https://localhost:8080/"
        },
        "id": "32_LEPJMJIuT",
        "outputId": "b41babf3-5beb-4bd2-c3cc-db4670cc7a7e"
      },
      "execution_count": 22,
      "outputs": [
        {
          "output_type": "stream",
          "name": "stdout",
          "text": [
            "                                          cleaned_tweet  polarity\n",
            "0     global warming report urges governments to act...         1\n",
            "1     fighting poverty and global warming in africa ...         1\n",
            "2     carbon offsets how a vatican forest failed to ...         1\n",
            "5     rt  rt  ocean saltiness shows global warming i...         1\n",
            "6     global warming evidence all around usa message...         1\n",
            "...                                                 ...       ...\n",
            "6084  it  and climbing in nyc august weather for the...         1\n",
            "6085  the phrase global warming should be abandoned ...         1\n",
            "6087      global warming you tube parody you will enjoy         0\n",
            "6088  oneeyed golfer dont dare tell me about global ...         0\n",
            "6089  man made global warming a hair brained theory ...         0\n",
            "\n",
            "[2014 rows x 2 columns]\n",
            "                                          cleaned_tweet  polarity\n",
            "4     uruguay tools needed for those most vulnerable...         1\n",
            "7     migratory birds new climate change strategy st...         1\n",
            "8     southern africa competing for limpopo water cl...         1\n",
            "13    climate change blamed as coastal whale migrati...         1\n",
            "17    wait here an idea it natural climate change no...         0\n",
            "...                                                 ...       ...\n",
            "6078  bats birds and lizards can fight climate chang...         1\n",
            "6079  bats birds and lizards can fight climate chang...         1\n",
            "6080  bats birds and lizards can fight climate chang...         1\n",
            "6081  bats birds and lizards can fight climate chang...         1\n",
            "6085  the phrase global warming should be abandoned ...         1\n",
            "\n",
            "[1799 rows x 2 columns]\n",
            "                                          cleaned_tweet  polarity\n",
            "1     fighting poverty and global warming in africa ...         1\n",
            "245   ethiopia climate change increasing poverty and...         1\n",
            "246   ethiopia climate change increasing poverty and...         1\n",
            "527   fighting poverty and global warming in africa ...         1\n",
            "606   un to battle poverty global warming  newkerala...         1\n",
            "1218      fighting poverty and global warming in africa         1\n",
            "1245  ethiopia climate change increasing poverty and...         1\n",
            "1246  ethiopia climate change increasing poverty and...         1\n",
            "1527  fighting poverty and global warming in africa ...         1\n",
            "1606  un to battle poverty global warming  newkerala...         1\n",
            "2436  rt  care about poverty or climate change in  v...         1\n",
            "2437  rt  care about poverty or climate change in  v...         1\n",
            "2596  vancouver gs top policy makers sit down with g...         1\n",
            "2763  help us to tackle poverty and climate change s...         1\n",
            "3942  the robin hood tax a tiny tax on bankers that ...         1\n",
            "4863  rt  osi leads the way in addressing poverty op...         1\n",
            "4934  osi leads the way in addressing poverty open s...         1\n",
            "4988  rt  state of the planet  conference connecting...         1\n",
            "5092  check out the most popular gps video education...         1\n",
            "5414  climate change increasing poverty and vulnerab...         1\n",
            "                                          cleaned_tweet  polarity\n",
            "325   the need to switch to renewable energyclimate ...         1\n",
            "507   renewable energy advances  ocean saltiness sho...         1\n",
            "603   renewable energy possible solution to global w...         1\n",
            "1325  the need to switch to renewable energyclimate ...         1\n",
            "1326  the need to switch to renewable energyclimate ...         1\n",
            "1507  renewable energy advances  ocean saltiness sho...         1\n",
            "1603  renewable energy possible solution to global w...         1\n",
            "4018  ways to prevent global warming  renewable ener...         1\n",
            "4377  nigeria climate change and a renewable energy ...         1\n",
            "5217  climate change   european firms see windfall i...         1\n"
          ]
        }
      ]
    }
  ]
}